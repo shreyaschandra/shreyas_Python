{
 "cells": [
  {
   "cell_type": "code",
   "execution_count": null,
   "metadata": {},
   "outputs": [],
   "source": [
    "#Introduction to Functions\n",
    "Functions are used maitain the code reusability\n",
    "Defining a fuction, using the keyword def\n",
    "\n",
    "syntax:\n",
    "    def function_name:\n",
    "        \"\"\"doc strings\"\"\"\n",
    "        logical statements"
   ]
  },
  {
   "cell_type": "code",
   "execution_count": 3,
   "metadata": {},
   "outputs": [],
   "source": [
    "#req: function to greet the users\n",
    "def greet_usr():\n",
    "    \"\"\"display a message for user \"\"\"\n",
    "    print('hello')"
   ]
  },
  {
   "cell_type": "code",
   "execution_count": 4,
   "metadata": {},
   "outputs": [
    {
     "name": "stdout",
     "output_type": "stream",
     "text": [
      "hello\n"
     ]
    }
   ],
   "source": [
    "greet_usr()    #function call"
   ]
  },
  {
   "cell_type": "code",
   "execution_count": 8,
   "metadata": {},
   "outputs": [],
   "source": [
    "#to print the message in a loop\n",
    "def greet_usr():\n",
    "    \"\"\"display a message for user \"\"\"\n",
    "    num=1\n",
    "    while num<=5:\n",
    "        print('hello')\n",
    "        num +=1"
   ]
  },
  {
   "cell_type": "code",
   "execution_count": 9,
   "metadata": {},
   "outputs": [
    {
     "name": "stdout",
     "output_type": "stream",
     "text": [
      "hello\n",
      "hello\n",
      "hello\n",
      "hello\n",
      "hello\n"
     ]
    }
   ],
   "source": [
    "greet_usr()"
   ]
  },
  {
   "cell_type": "code",
   "execution_count": 10,
   "metadata": {},
   "outputs": [],
   "source": [
    "#enhancement of code\n",
    "def g_usr(username):                # parameter/argument passing , defining a function\n",
    "    \"\"\"to display the message for the user\"\"\"      #doc strings\n",
    "    print(f\"Good to have u back, {username.title()}\")   "
   ]
  },
  {
   "cell_type": "code",
   "execution_count": 11,
   "metadata": {},
   "outputs": [
    {
     "name": "stdout",
     "output_type": "stream",
     "text": [
      "Good to have u back, Shreyas\n"
     ]
    }
   ],
   "source": [
    "g_usr('shreyas')   #function call with argument passing, args   # run time args"
   ]
  },
  {
   "cell_type": "code",
   "execution_count": 12,
   "metadata": {},
   "outputs": [
    {
     "name": "stdout",
     "output_type": "stream",
     "text": [
      "Good to have u back, Chandra\n"
     ]
    }
   ],
   "source": [
    "g_usr('chandra')"
   ]
  },
  {
   "cell_type": "code",
   "execution_count": null,
   "metadata": {},
   "outputs": [],
   "source": [
    "#intro. to parameters and arguments\n",
    "#types of args:\n",
    "    1.Positional args  \n",
    "    2.Keyword args\n",
    "    3.Default params/args"
   ]
  },
  {
   "cell_type": "code",
   "execution_count": 13,
   "metadata": {},
   "outputs": [],
   "source": [
    "#Positional args   is default type of args\n",
    "def desc_pet(animal_type,pet_name):          #2 params passed\n",
    "    \"\"\"  display the animal type with name\"\"\"\n",
    "    print(f\"\\ni have a {animal_type}\")\n",
    "    print(f\"the {animal_type}'s name is {pet_name}\")"
   ]
  },
  {
   "cell_type": "code",
   "execution_count": 14,
   "metadata": {},
   "outputs": [
    {
     "name": "stdout",
     "output_type": "stream",
     "text": [
      "\n",
      "i have a dog\n",
      "the dog's name is jullo\n"
     ]
    }
   ],
   "source": [
    "desc_pet('dog','jullo')"
   ]
  },
  {
   "cell_type": "code",
   "execution_count": 16,
   "metadata": {},
   "outputs": [],
   "source": [
    "def desc_pet(animal_type,pet_name):\n",
    "    \"\"\"  display the animal type with name\"\"\"\n",
    "    print(f\"\\ni have a {animal_type.title()}\")\n",
    "    print(f\"the {animal_type}'s name is {pet_name.title()}\")"
   ]
  },
  {
   "cell_type": "code",
   "execution_count": 17,
   "metadata": {},
   "outputs": [
    {
     "name": "stdout",
     "output_type": "stream",
     "text": [
      "\n",
      "i have a Dog\n",
      "the dog's name is Jullo\n"
     ]
    }
   ],
   "source": [
    "desc_pet('dog','jullo')"
   ]
  },
  {
   "cell_type": "code",
   "execution_count": 18,
   "metadata": {},
   "outputs": [],
   "source": [
    "def desc_pet(animal_type,pet_name):\n",
    "    \"\"\"  display the animal type with name\"\"\"\n",
    "    print(f\"\\ni have a {animal_type.title()}\")\n",
    "    print(f\"the {animal_type}'s name is {pet_name.title()}\")"
   ]
  },
  {
   "cell_type": "code",
   "execution_count": 19,
   "metadata": {},
   "outputs": [
    {
     "name": "stdout",
     "output_type": "stream",
     "text": [
      "\n",
      "i have a Cat\n",
      "the cat's name is Kitty\n"
     ]
    }
   ],
   "source": [
    "desc_pet('cat','kitty')"
   ]
  },
  {
   "cell_type": "code",
   "execution_count": 20,
   "metadata": {},
   "outputs": [
    {
     "name": "stdout",
     "output_type": "stream",
     "text": [
      "\n",
      "i have a Dog\n",
      "the dog's name is Rex\n",
      "\n",
      "i have a Cat\n",
      "the cat's name is Tom\n"
     ]
    }
   ],
   "source": [
    "#multiple call of a function\n",
    "desc_pet('dog','rex')\n",
    "desc_pet('cat','tom')"
   ]
  },
  {
   "cell_type": "code",
   "execution_count": 21,
   "metadata": {},
   "outputs": [
    {
     "name": "stdout",
     "output_type": "stream",
     "text": [
      "\n",
      "i have a Jullo\n",
      "the jullo's name is Dog\n"
     ]
    }
   ],
   "source": [
    "# non postioning of the args\n",
    "desc_pet('jullo','dog')"
   ]
  },
  {
   "cell_type": "code",
   "execution_count": 22,
   "metadata": {},
   "outputs": [
    {
     "name": "stdout",
     "output_type": "stream",
     "text": [
      "\n",
      "i have a Dog\n",
      "the dog's name is Rambo\n"
     ]
    }
   ],
   "source": [
    "#keyword args\n",
    "desc_pet(animal_type='dog',pet_name='rambo')         #2 params passed with args\n",
    "    "
   ]
  },
  {
   "cell_type": "code",
   "execution_count": 23,
   "metadata": {},
   "outputs": [
    {
     "ename": "TypeError",
     "evalue": "desc_pet() missing 1 required positional argument: 'pet_name'",
     "output_type": "error",
     "traceback": [
      "\u001b[1;31m---------------------------------------------------------------------------\u001b[0m",
      "\u001b[1;31mTypeError\u001b[0m                                 Traceback (most recent call last)",
      "\u001b[1;32m<ipython-input-23-56098f0ffe2b>\u001b[0m in \u001b[0;36m<module>\u001b[1;34m\u001b[0m\n\u001b[1;32m----> 1\u001b[1;33m \u001b[0mdesc_pet\u001b[0m\u001b[1;33m(\u001b[0m\u001b[1;34m'dog'\u001b[0m\u001b[1;33m)\u001b[0m\u001b[1;33m\u001b[0m\u001b[1;33m\u001b[0m\u001b[0m\n\u001b[0m",
      "\u001b[1;31mTypeError\u001b[0m: desc_pet() missing 1 required positional argument: 'pet_name'"
     ]
    }
   ],
   "source": [
    "desc_pet('dog')     # needed 2 params , but passed only one hence error"
   ]
  },
  {
   "cell_type": "code",
   "execution_count": 24,
   "metadata": {},
   "outputs": [],
   "source": [
    "#intro. default values\n",
    "        #while declaring the default vaules we have to keep it at the end of the function.\n",
    "\n",
    "def desc_pet(animal_type,pet_name='baily'):\n",
    "    \"\"\"  display the animal type with name\"\"\"\n",
    "    print(f\"\\ni have a {animal_type.title()}\")\n",
    "    print(f\"the {animal_type}'s name is {pet_name.title()}\")"
   ]
  },
  {
   "cell_type": "code",
   "execution_count": 25,
   "metadata": {},
   "outputs": [
    {
     "name": "stdout",
     "output_type": "stream",
     "text": [
      "\n",
      "i have a Dog\n",
      "the dog's name is Baily\n"
     ]
    }
   ],
   "source": [
    "desc_pet('dog')"
   ]
  },
  {
   "cell_type": "code",
   "execution_count": 26,
   "metadata": {},
   "outputs": [
    {
     "name": "stdout",
     "output_type": "stream",
     "text": [
      "\n",
      "i have a Dog\n",
      "the dog's name is Smoky\n"
     ]
    }
   ],
   "source": [
    "#req. need pass 2 args on setting the default value\n",
    "desc_pet('dog','smoky')"
   ]
  },
  {
   "cell_type": "code",
   "execution_count": 27,
   "metadata": {},
   "outputs": [
    {
     "name": "stdout",
     "output_type": "stream",
     "text": [
      "\n",
      "i have a Cat\n",
      "the cat's name is Katty\n"
     ]
    }
   ],
   "source": [
    "desc_pet('cat','katty')      # args only, in missing cases it will be considering thye default values"
   ]
  },
  {
   "cell_type": "code",
   "execution_count": 28,
   "metadata": {},
   "outputs": [
    {
     "ename": "SyntaxError",
     "evalue": "non-default argument follows default argument (<ipython-input-28-ef8d5526c69d>, line 1)",
     "output_type": "error",
     "traceback": [
      "\u001b[1;36m  File \u001b[1;32m\"<ipython-input-28-ef8d5526c69d>\"\u001b[1;36m, line \u001b[1;32m1\u001b[0m\n\u001b[1;33m    def desc_pet(animal_type='dog',pet_name):\u001b[0m\n\u001b[1;37m                ^\u001b[0m\n\u001b[1;31mSyntaxError\u001b[0m\u001b[1;31m:\u001b[0m non-default argument follows default argument\n"
     ]
    }
   ],
   "source": [
    "def desc_pet(animal_type='dog',pet_name):\n",
    "    \"\"\"  display the animal type with name\"\"\"\n",
    "    print(f\"\\ni have a {animal_type.title()}\")\n",
    "    print(f\"the {animal_type}'s name is {pet_name.title()}\")"
   ]
  },
  {
   "cell_type": "code",
   "execution_count": null,
   "metadata": {},
   "outputs": [],
   "source": [
    "# should always pass the default values at the end of the function"
   ]
  }
 ],
 "metadata": {
  "kernelspec": {
   "display_name": "Python 3",
   "language": "python",
   "name": "python3"
  },
  "language_info": {
   "codemirror_mode": {
    "name": "ipython",
    "version": 3
   },
   "file_extension": ".py",
   "mimetype": "text/x-python",
   "name": "python",
   "nbconvert_exporter": "python",
   "pygments_lexer": "ipython3",
   "version": "3.7.4"
  }
 },
 "nbformat": 4,
 "nbformat_minor": 2
}
