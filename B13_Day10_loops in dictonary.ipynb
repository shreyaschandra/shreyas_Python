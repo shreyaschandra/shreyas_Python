{
 "cells": [
  {
   "cell_type": "code",
   "execution_count": 7,
   "metadata": {},
   "outputs": [
    {
     "name": "stdout",
     "output_type": "stream",
     "text": [
      "{'username': 'Dia', 'firstname': 'Adhi', 'lastname': 'rohit'}\n"
     ]
    }
   ],
   "source": [
    "#looping through all the values in the dictonary\n",
    "usr_0={\n",
    "    'username':'Dia',\n",
    "    'firstname':'Adhi',\n",
    "    'lastname':'rohit'\n",
    "}\n",
    "print(usr_0)"
   ]
  },
  {
   "cell_type": "code",
   "execution_count": 8,
   "metadata": {},
   "outputs": [
    {
     "data": {
      "text/plain": [
       "dict"
      ]
     },
     "execution_count": 8,
     "metadata": {},
     "output_type": "execute_result"
    }
   ],
   "source": [
    "type(usr_0)"
   ]
  },
  {
   "cell_type": "code",
   "execution_count": null,
   "metadata": {},
   "outputs": [],
   "source": [
    "#Syntax for FOR loop on using in dictonary.\n",
    "for key,value in dictonary name.items():     #temp var are key and value\n",
    "    print(f\"key:{key placeholder}\")       #key is the temp var\n",
    "    print(f\"value:{value placeholder}\")   #value is the temp var"
   ]
  },
  {
   "cell_type": "code",
   "execution_count": 10,
   "metadata": {},
   "outputs": [
    {
     "name": "stdout",
     "output_type": "stream",
     "text": [
      "key: username\n",
      "value: Dia\n",
      "key: firstname\n",
      "value: Adhi\n",
      "key: lastname\n",
      "value: rohit\n"
     ]
    }
   ],
   "source": [
    "for key,value in usr_0.items():\n",
    "    print(f\"key: {key}\")\n",
    "    print(f\"value: {value}\")   "
   ]
  },
  {
   "cell_type": "code",
   "execution_count": 14,
   "metadata": {},
   "outputs": [
    {
     "name": "stdout",
     "output_type": "stream",
     "text": [
      "\n",
      "key: username\n",
      "value: Dia\n",
      "\n",
      "key: firstname\n",
      "value: Adhi\n",
      "\n",
      "key: lastname\n",
      "value: rohit\n"
     ]
    }
   ],
   "source": [
    "for key,value in usr_0.items():\n",
    "    print(f\"\\nkey: {key}\")\n",
    "    print(f\"value: {value}\") "
   ]
  },
  {
   "cell_type": "code",
   "execution_count": 16,
   "metadata": {},
   "outputs": [
    {
     "name": "stdout",
     "output_type": "stream",
     "text": [
      "\n",
      "key: username\n",
      "value: Dia\n",
      "\n",
      "key: firstname\n",
      "value: Adhi\n",
      "\n",
      "key: lastname\n",
      "value: rohit\n"
     ]
    }
   ],
   "source": [
    "for a,b in usr_0.items():\n",
    "    print(f\"\\nkey: {a}\")\n",
    "    print(f\"value: {b}\") "
   ]
  },
  {
   "cell_type": "code",
   "execution_count": 17,
   "metadata": {},
   "outputs": [
    {
     "name": "stdout",
     "output_type": "stream",
     "text": [
      "username\n",
      "firstname\n",
      "lastname\n"
     ]
    }
   ],
   "source": [
    "# need to have only key values \n",
    "for a in usr_0.keys():\n",
    "    print(a)"
   ]
  },
  {
   "cell_type": "code",
   "execution_count": 19,
   "metadata": {},
   "outputs": [
    {
     "name": "stdout",
     "output_type": "stream",
     "text": [
      "Dia\n",
      "Adhi\n",
      "rohit\n"
     ]
    }
   ],
   "source": [
    "# need to have only values, no keys \n",
    "for a in usr_0.values():\n",
    "    print(a)"
   ]
  },
  {
   "cell_type": "code",
   "execution_count": 21,
   "metadata": {},
   "outputs": [
    {
     "name": "stdout",
     "output_type": "stream",
     "text": [
      "{'dia': 'python', 'ria': 'C', 'sia': 'java', 'arya': 'ruby'}\n"
     ]
    }
   ],
   "source": [
    "fav_lang={ 'dia':'python',\n",
    "          'ria':'C',\n",
    "          'sia':'java',\n",
    "          'arya':'ruby'\n",
    "}\n",
    "print(fav_lang)"
   ]
  },
  {
   "cell_type": "code",
   "execution_count": 22,
   "metadata": {},
   "outputs": [
    {
     "name": "stdout",
     "output_type": "stream",
     "text": [
      " Arya , thank you for the participation...\n",
      " Dia , thank you for the participation...\n",
      " Ria , thank you for the participation...\n",
      " Sia , thank you for the participation...\n"
     ]
    }
   ],
   "source": [
    "# to print and loop through the dictonary in a particular order\n",
    "\n",
    "for name in sorted(fav_lang.keys()):\n",
    "    print(f\" {name.title()} , thank you for the participation...\")"
   ]
  },
  {
   "cell_type": "code",
   "execution_count": 23,
   "metadata": {},
   "outputs": [
    {
     "name": "stdout",
     "output_type": "stream",
     "text": [
      "1\n",
      "2\n",
      "3\n",
      "4\n",
      "5\n",
      "6\n",
      "7\n",
      "8\n",
      "9\n",
      "10\n"
     ]
    }
   ],
   "source": [
    "#introduction to while loop.\n",
    "\n",
    "cur_value=1              #assigning the initial value for the var\n",
    "while cur_value<=10:     #while condition\n",
    "    print(cur_value)      #printing the values\n",
    "    cur_value +=10        #incrementing the current value by 1,   known as iteration.\n"
   ]
  },
  {
   "cell_type": "code",
   "execution_count": null,
   "metadata": {},
   "outputs": [],
   "source": [
    "#difference between for and while loops\n",
    "# for loop  : it is a collection of items and executes a block of code on to each items in the collectiom provided\n",
    "#while loop  : it runs and esecutes as long as certain condition is true."
   ]
  },
  {
   "cell_type": "code",
   "execution_count": null,
   "metadata": {},
   "outputs": [],
   "source": []
  }
 ],
 "metadata": {
  "kernelspec": {
   "display_name": "Python 3",
   "language": "python",
   "name": "python3"
  },
  "language_info": {
   "codemirror_mode": {
    "name": "ipython",
    "version": 3
   },
   "file_extension": ".py",
   "mimetype": "text/x-python",
   "name": "python",
   "nbconvert_exporter": "python",
   "pygments_lexer": "ipython3",
   "version": "3.7.4"
  }
 },
 "nbformat": 4,
 "nbformat_minor": 2
}
