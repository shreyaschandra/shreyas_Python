{
 "cells": [
  {
   "cell_type": "code",
   "execution_count": null,
   "metadata": {},
   "outputs": [],
   "source": [
    "#Intro to LIST data type\n",
    "A list is collection of items in a particular order\n",
    "it is denoted by   []\n",
    "a list is an mutable data type(we cqn modify,alter data and reassign)"
   ]
  },
  {
   "cell_type": "code",
   "execution_count": 1,
   "metadata": {},
   "outputs": [
    {
     "name": "stdout",
     "output_type": "stream",
     "text": [
      "['shreyas', 'chandra', 'sudha', 'sindhu', 'chaitra']\n"
     ]
    }
   ],
   "source": [
    "stu=['shreyas','chandra','sudha','sindhu','chaitra']\n",
    "print(stu)"
   ]
  },
  {
   "cell_type": "code",
   "execution_count": 2,
   "metadata": {},
   "outputs": [
    {
     "data": {
      "text/plain": [
       "list"
      ]
     },
     "execution_count": 2,
     "metadata": {},
     "output_type": "execute_result"
    }
   ],
   "source": [
    "#how to validate and verify\n",
    "type(stu)"
   ]
  },
  {
   "cell_type": "code",
   "execution_count": null,
   "metadata": {},
   "outputs": [],
   "source": [
    "#intro to indexing\n",
    "where exactly the indexing will start from ........0,1,2,3\n",
    "#how to accesa element in a list"
   ]
  },
  {
   "cell_type": "code",
   "execution_count": 3,
   "metadata": {},
   "outputs": [
    {
     "name": "stdout",
     "output_type": "stream",
     "text": [
      "chaitra\n"
     ]
    }
   ],
   "source": [
    "#1. to access chaitra in the output\n",
    "print(stu[4])"
   ]
  },
  {
   "cell_type": "code",
   "execution_count": 5,
   "metadata": {},
   "outputs": [
    {
     "name": "stdout",
     "output_type": "stream",
     "text": [
      "shreyas\n"
     ]
    }
   ],
   "source": [
    "#2 to access shreyas in the o/p\n",
    "print(stu[0])"
   ]
  },
  {
   "cell_type": "code",
   "execution_count": null,
   "metadata": {},
   "outputs": [],
   "source": [
    "#negative indexing\n",
    "-1,-2,-3\n",
    "using negative indexing access chaitra"
   ]
  },
  {
   "cell_type": "code",
   "execution_count": 6,
   "metadata": {},
   "outputs": [
    {
     "name": "stdout",
     "output_type": "stream",
     "text": [
      "chaitra\n"
     ]
    }
   ],
   "source": [
    "print(stu[-1])"
   ]
  },
  {
   "cell_type": "code",
   "execution_count": 7,
   "metadata": {},
   "outputs": [
    {
     "name": "stdout",
     "output_type": "stream",
     "text": [
      "shreyas\n"
     ]
    }
   ],
   "source": [
    "#negative index access shreyas\n",
    "print(stu[-5])"
   ]
  },
  {
   "cell_type": "code",
   "execution_count": 8,
   "metadata": {},
   "outputs": [
    {
     "name": "stdout",
     "output_type": "stream",
     "text": [
      "Shreyas\n"
     ]
    }
   ],
   "source": [
    "#code enhancement\n",
    "print(stu[-5].title())"
   ]
  },
  {
   "cell_type": "code",
   "execution_count": 10,
   "metadata": {},
   "outputs": [
    {
     "name": "stdout",
     "output_type": "stream",
     "text": [
      "SHREYAS\n"
     ]
    }
   ],
   "source": [
    "print(stu[-5].upper())"
   ]
  },
  {
   "cell_type": "code",
   "execution_count": 11,
   "metadata": {},
   "outputs": [
    {
     "name": "stdout",
     "output_type": "stream",
     "text": [
      "['raj', 'ram', 'sam', 'dia', 'ria']\n"
     ]
    }
   ],
   "source": [
    "my_det=['raj','ram','sam','dia','ria']\n",
    "print(my_det)"
   ]
  },
  {
   "cell_type": "code",
   "execution_count": 12,
   "metadata": {},
   "outputs": [
    {
     "data": {
      "text/plain": [
       "list"
      ]
     },
     "execution_count": 12,
     "metadata": {},
     "output_type": "execute_result"
    }
   ],
   "source": [
    "type(my_det)"
   ]
  },
  {
   "cell_type": "code",
   "execution_count": 13,
   "metadata": {},
   "outputs": [],
   "source": [
    "#changing , adding, removing elements in the list\n",
    "#to change ram to sita\n",
    "my_det[1]='sita'   #allocated the index to change the name from ram to sita"
   ]
  },
  {
   "cell_type": "code",
   "execution_count": 14,
   "metadata": {},
   "outputs": [
    {
     "name": "stdout",
     "output_type": "stream",
     "text": [
      "['raj', 'sita', 'sam', 'dia', 'ria']\n"
     ]
    }
   ],
   "source": [
    "print(my_det)"
   ]
  },
  {
   "cell_type": "code",
   "execution_count": 15,
   "metadata": {},
   "outputs": [
    {
     "name": "stdout",
     "output_type": "stream",
     "text": [
      "['raj', 'sita', 'sam', 'dia', 'ria', 'rita']\n"
     ]
    }
   ],
   "source": [
    "#adding elements to the list\n",
    "my_det.append('rita')   # will be added at the end of the list\n",
    "print(my_det)"
   ]
  },
  {
   "cell_type": "code",
   "execution_count": 16,
   "metadata": {},
   "outputs": [
    {
     "name": "stdout",
     "output_type": "stream",
     "text": [
      "['shreyas', 'raj', 'sita', 'sam', 'dia', 'ria', 'rita']\n"
     ]
    }
   ],
   "source": [
    "# insert a element  to list\n",
    "my_det.insert(0,'shreyas')\n",
    "print(my_det)"
   ]
  },
  {
   "cell_type": "code",
   "execution_count": 17,
   "metadata": {},
   "outputs": [
    {
     "name": "stdout",
     "output_type": "stream",
     "text": [
      "['shreyas', 'chaitra', 'raj', 'sita', 'sam', 'dia', 'ria', 'rita']\n"
     ]
    }
   ],
   "source": [
    "my_det.insert(1,'chaitra')\n",
    "print(my_det)"
   ]
  },
  {
   "cell_type": "code",
   "execution_count": null,
   "metadata": {},
   "outputs": [],
   "source": []
  }
 ],
 "metadata": {
  "kernelspec": {
   "display_name": "Python 3",
   "language": "python",
   "name": "python3"
  },
  "language_info": {
   "codemirror_mode": {
    "name": "ipython",
    "version": 3
   },
   "file_extension": ".py",
   "mimetype": "text/x-python",
   "name": "python",
   "nbconvert_exporter": "python",
   "pygments_lexer": "ipython3",
   "version": "3.7.4"
  }
 },
 "nbformat": 4,
 "nbformat_minor": 2
}
