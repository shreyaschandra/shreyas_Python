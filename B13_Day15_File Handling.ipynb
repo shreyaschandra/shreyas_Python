{
 "cells": [
  {
   "cell_type": "code",
   "execution_count": null,
   "metadata": {},
   "outputs": [],
   "source": [
    "# Introduction to File Handling\n",
    "#Steps for the file creation and accessing the file\n",
    "\n",
    "# open notepad and add the required data contents in it.\n",
    "#save the file in required format\n",
    "#upload the saved file into jupyter env.   via upload\n",
    "#read the file using read property in python.\n",
    "\n",
    "#Syntax to read the file \n",
    "with open('filename')  as file_object:   # file_object is a alias name  used as standard from python community\n",
    "    contents=file_object.read()            #reading the file \n",
    "print(contents)                          #displaying the contents present in the file\n"
   ]
  },
  {
   "cell_type": "code",
   "execution_count": 1,
   "metadata": {},
   "outputs": [
    {
     "name": "stdout",
     "output_type": "stream",
     "text": [
      "shreyas\n",
      "18\n",
      "1994\n",
      "90.83\n",
      "2020\n",
      "save from coroana.\n"
     ]
    }
   ],
   "source": [
    "#reading the contents from the created text file\n",
    "with open('myfile.txt') as file_object:\n",
    "    contents=file_object.read()\n",
    "print(contents)"
   ]
  },
  {
   "cell_type": "code",
   "execution_count": 4,
   "metadata": {},
   "outputs": [
    {
     "ename": "FileNotFoundError",
     "evalue": "[Errno 2] No such file or directory: 'file.txt'",
     "output_type": "error",
     "traceback": [
      "\u001b[1;31m---------------------------------------------------------------------------\u001b[0m",
      "\u001b[1;31mFileNotFoundError\u001b[0m                         Traceback (most recent call last)",
      "\u001b[1;32m<ipython-input-4-19b6308397dc>\u001b[0m in \u001b[0;36m<module>\u001b[1;34m\u001b[0m\n\u001b[0;32m      1\u001b[0m \u001b[1;31m#if no file is present in the jupyter env.\u001b[0m\u001b[1;33m\u001b[0m\u001b[1;33m\u001b[0m\u001b[1;33m\u001b[0m\u001b[0m\n\u001b[1;32m----> 2\u001b[1;33m \u001b[1;32mwith\u001b[0m \u001b[0mopen\u001b[0m\u001b[1;33m(\u001b[0m\u001b[1;34m'file.txt'\u001b[0m\u001b[1;33m)\u001b[0m \u001b[1;32mas\u001b[0m \u001b[0mfile_object\u001b[0m\u001b[1;33m:\u001b[0m\u001b[1;33m\u001b[0m\u001b[1;33m\u001b[0m\u001b[0m\n\u001b[0m\u001b[0;32m      3\u001b[0m     \u001b[0mcontents\u001b[0m\u001b[1;33m=\u001b[0m\u001b[0mfile_object\u001b[0m\u001b[1;33m.\u001b[0m\u001b[0mread\u001b[0m\u001b[1;33m(\u001b[0m\u001b[1;33m)\u001b[0m\u001b[1;33m\u001b[0m\u001b[1;33m\u001b[0m\u001b[0m\n\u001b[0;32m      4\u001b[0m \u001b[0mprint\u001b[0m\u001b[1;33m(\u001b[0m\u001b[0mcontents\u001b[0m\u001b[1;33m)\u001b[0m\u001b[1;33m\u001b[0m\u001b[1;33m\u001b[0m\u001b[0m\n",
      "\u001b[1;31mFileNotFoundError\u001b[0m: [Errno 2] No such file or directory: 'file.txt'"
     ]
    }
   ],
   "source": [
    "#if no file is present in the jupyter env.\n",
    "with open('file.txt') as file_object:\n",
    "    contents=file_object.read()\n",
    "print(contents)"
   ]
  },
  {
   "cell_type": "code",
   "execution_count": null,
   "metadata": {},
   "outputs": [],
   "source": [
    "#the above error is due to the absense of the datafile .xlxs in the jupyter env."
   ]
  },
  {
   "cell_type": "code",
   "execution_count": 5,
   "metadata": {},
   "outputs": [
    {
     "name": "stdout",
     "output_type": "stream",
     "text": [
      "shreyas\n",
      "\n",
      "18\n",
      "\n",
      "1994\n",
      "\n",
      "90.83\n",
      "\n",
      "2020\n",
      "\n",
      "save from coroana.\n"
     ]
    }
   ],
   "source": [
    "#req: i want read the data line by line.\n",
    "#enhancement of the code\n",
    "\n",
    "with open('myfile.txt') as file_object:\n",
    "    for line in file_object:          #line is a temp. var.\n",
    "        print(line)"
   ]
  },
  {
   "cell_type": "code",
   "execution_count": 6,
   "metadata": {},
   "outputs": [],
   "source": [
    "#Writing data into a file\n",
    "filename='myfile.txt'\n",
    "with open(filename,'w') as file_object:\n",
    "    file_object.write('i love python program')"
   ]
  },
  {
   "cell_type": "code",
   "execution_count": 7,
   "metadata": {},
   "outputs": [
    {
     "name": "stdout",
     "output_type": "stream",
     "text": [
      "i love python program\n"
     ]
    }
   ],
   "source": [
    "#to verify the data wriiten into file, we need to read the file\n",
    "with open('myfile.txt') as file_object:\n",
    "    contents=file_object.read()\n",
    "print(contents) "
   ]
  },
  {
   "cell_type": "code",
   "execution_count": null,
   "metadata": {},
   "outputs": [],
   "source": [
    "#by the writing into the file , the previous contents will be overridden and only the new data content will be displayed.\n",
    "#to avoid the over ridding the data , we need to use the append "
   ]
  },
  {
   "cell_type": "code",
   "execution_count": 8,
   "metadata": {},
   "outputs": [],
   "source": [
    "#Adding data into file by using append\n",
    "filename='myfile.txt'\n",
    "with open(filename,'a') as file_object:\n",
    "    file_object.write('i love python program')"
   ]
  },
  {
   "cell_type": "code",
   "execution_count": 9,
   "metadata": {},
   "outputs": [
    {
     "name": "stdout",
     "output_type": "stream",
     "text": [
      "i love python programi love python program\n"
     ]
    }
   ],
   "source": [
    "with open('myfile.txt') as file_object:\n",
    "    contents=file_object.read()\n",
    "print(contents)"
   ]
  },
  {
   "cell_type": "code",
   "execution_count": 13,
   "metadata": {},
   "outputs": [],
   "source": [
    "#enhancement of the code , appending multiple inputs\n",
    "filename='myfile.txt'\n",
    "with open(filename,'w') as file_object:\n",
    "    file_object.write('I love python program.\\n')\n",
    "    file_object.write('Python program is most demanding language in the industry currently.\\n')"
   ]
  },
  {
   "cell_type": "code",
   "execution_count": 14,
   "metadata": {},
   "outputs": [
    {
     "name": "stdout",
     "output_type": "stream",
     "text": [
      "I love python program.\n",
      "Python program is most demanding language in the industry currently.\n",
      "\n"
     ]
    }
   ],
   "source": [
    "with open('myfile.txt') as file_object:\n",
    "    contents=file_object.read()\n",
    "print(contents)"
   ]
  },
  {
   "cell_type": "code",
   "execution_count": 15,
   "metadata": {},
   "outputs": [],
   "source": [
    "#appending additional data line\n",
    "filename='myfile.txt'\n",
    "with open(filename,'a') as file_object:\n",
    "    file_object.write('Python program is used in all sectors.\\n')"
   ]
  },
  {
   "cell_type": "code",
   "execution_count": 16,
   "metadata": {},
   "outputs": [
    {
     "name": "stdout",
     "output_type": "stream",
     "text": [
      "I love python program.\n",
      "Python program is most demanding language in the industry currently.\n",
      "Python program is used in all sectors.\n",
      "\n"
     ]
    }
   ],
   "source": [
    "with open('myfile.txt') as file_object:\n",
    "    contents=file_object.read()\n",
    "print(contents)"
   ]
  },
  {
   "cell_type": "code",
   "execution_count": 17,
   "metadata": {},
   "outputs": [],
   "source": [
    "#Appending data in new line\n",
    "filename='myfile.txt'\n",
    "with open(filename,'a') as file_object:\n",
    "    file_object.write('\\n Python program is used in Test automation.\\n')"
   ]
  },
  {
   "cell_type": "code",
   "execution_count": 18,
   "metadata": {},
   "outputs": [
    {
     "name": "stdout",
     "output_type": "stream",
     "text": [
      "I love python program.\n",
      "Python program is most demanding language in the industry currently.\n",
      "Python program is used in all sectors.\n",
      "\n",
      " Python program is used in Test automation.\n",
      "\n"
     ]
    }
   ],
   "source": [
    "with open('myfile.txt') as file_object:\n",
    "    contents=file_object.read()\n",
    "print(contents)"
   ]
  },
  {
   "cell_type": "code",
   "execution_count": null,
   "metadata": {},
   "outputs": [],
   "source": []
  }
 ],
 "metadata": {
  "kernelspec": {
   "display_name": "Python 3",
   "language": "python",
   "name": "python3"
  },
  "language_info": {
   "codemirror_mode": {
    "name": "ipython",
    "version": 3
   },
   "file_extension": ".py",
   "mimetype": "text/x-python",
   "name": "python",
   "nbconvert_exporter": "python",
   "pygments_lexer": "ipython3",
   "version": "3.7.4"
  }
 },
 "nbformat": 4,
 "nbformat_minor": 2
}
