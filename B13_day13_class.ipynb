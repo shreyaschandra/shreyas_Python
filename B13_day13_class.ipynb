{
 "cells": [
  {
   "cell_type": "code",
   "execution_count": null,
   "metadata": {},
   "outputs": [],
   "source": [
    "# Introduction to Classes\n",
    "class -  is like a blueprint of the code design\n",
    "Method -A function written inside a class \n",
    "Attribute - a variable writteb inside a class"
   ]
  },
  {
   "cell_type": "code",
   "execution_count": null,
   "metadata": {},
   "outputs": [],
   "source": [
    "#Instance of a object/class:\n",
    "Syntax:   def class_name:\n",
    "        \"\"\"doc strings\"\"\"\n",
    "            method declarations\n",
    "            conditional statements"
   ]
  },
  {
   "cell_type": "code",
   "execution_count": 1,
   "metadata": {},
   "outputs": [],
   "source": [
    "#req. :  to accept the name of the user and print the username, at he end greet the user\n",
    "\n",
    "class Test:      #created the class\n",
    "    \"\"\"display the username and to greet the user\"\"\"\n",
    "    def createuser(self,name):       #self is the temp place holder for an object , self is a obj. created\n",
    "        self.name=name               #assignment of the name  \n",
    "        \n",
    "    def displayuser(self):          #declaring any method, we need to pass it object\n",
    "        print(self.name)\n",
    "        \n",
    "    def greetuser(self):\n",
    "        print(f\"Hello, good to see you, {self.name}\")"
   ]
  },
  {
   "cell_type": "code",
   "execution_count": 2,
   "metadata": {},
   "outputs": [],
   "source": [
    "#to access the class and its contents , create a object to access\n",
    "acc=Test()"
   ]
  },
  {
   "cell_type": "code",
   "execution_count": 3,
   "metadata": {},
   "outputs": [],
   "source": [
    "#accessing the class methods by the obj. created\n",
    "acc.createuser('shreyas')"
   ]
  },
  {
   "cell_type": "code",
   "execution_count": 4,
   "metadata": {},
   "outputs": [
    {
     "name": "stdout",
     "output_type": "stream",
     "text": [
      "shreyas\n"
     ]
    }
   ],
   "source": [
    "acc.displayuser()"
   ]
  },
  {
   "cell_type": "code",
   "execution_count": 5,
   "metadata": {},
   "outputs": [
    {
     "name": "stdout",
     "output_type": "stream",
     "text": [
      "Hello, good to see you, shreyas\n"
     ]
    }
   ],
   "source": [
    "acc.greetuser()"
   ]
  },
  {
   "cell_type": "code",
   "execution_count": 6,
   "metadata": {},
   "outputs": [],
   "source": [
    "#class can access any number of objects\n",
    "\n",
    "dis=Test()"
   ]
  },
  {
   "cell_type": "code",
   "execution_count": 7,
   "metadata": {},
   "outputs": [],
   "source": [
    "dis.createuser('shreyas')"
   ]
  },
  {
   "cell_type": "code",
   "execution_count": 8,
   "metadata": {},
   "outputs": [
    {
     "name": "stdout",
     "output_type": "stream",
     "text": [
      "Hello, good to see you, shreyas\n"
     ]
    }
   ],
   "source": [
    "dis.greetuser()"
   ]
  },
  {
   "cell_type": "code",
   "execution_count": 9,
   "metadata": {},
   "outputs": [],
   "source": [
    "dis.createuser('chandra')"
   ]
  },
  {
   "cell_type": "code",
   "execution_count": 10,
   "metadata": {},
   "outputs": [
    {
     "name": "stdout",
     "output_type": "stream",
     "text": [
      "Hello, good to see you, chandra\n"
     ]
    }
   ],
   "source": [
    "dis.greetuser()"
   ]
  },
  {
   "cell_type": "code",
   "execution_count": 11,
   "metadata": {},
   "outputs": [
    {
     "name": "stdout",
     "output_type": "stream",
     "text": [
      "chandra\n"
     ]
    }
   ],
   "source": [
    "dis.displayuser()"
   ]
  },
  {
   "cell_type": "code",
   "execution_count": null,
   "metadata": {},
   "outputs": [],
   "source": [
    "#object is the key ,  anything we need to touch inside the class , we have to use the object , there is no other options"
   ]
  },
  {
   "cell_type": "code",
   "execution_count": 13,
   "metadata": {},
   "outputs": [],
   "source": [
    "#use case\n",
    "#calculator\n",
    "class calculator:\n",
    "    \"\"\"to verify the calculation operation\"\"\"\n",
    "        \n",
    "    def add(cal,n1,n2):\n",
    "        cal=n1+n2\n",
    "        print(f\"the sum of given number is : {cal}\")\n",
    "        \n",
    "        \n",
    "    def diff(cal,n1,n2):\n",
    "        cal=n1-n2\n",
    "        print(f\"the difference of given number is :{cal}\")\n",
    "        \n",
    "    def mul(cal,n1,n2):\n",
    "        cal=n1*n2\n",
    "        print(f\"the product of given number is :{cal}\")"
   ]
  },
  {
   "cell_type": "code",
   "execution_count": 14,
   "metadata": {},
   "outputs": [],
   "source": [
    "case=calculator()"
   ]
  },
  {
   "cell_type": "code",
   "execution_count": 15,
   "metadata": {},
   "outputs": [
    {
     "name": "stdout",
     "output_type": "stream",
     "text": [
      "the sum of given number is : 7\n"
     ]
    }
   ],
   "source": [
    "case.add(2,5)"
   ]
  },
  {
   "cell_type": "code",
   "execution_count": 16,
   "metadata": {},
   "outputs": [
    {
     "name": "stdout",
     "output_type": "stream",
     "text": [
      "the difference of given number is :5\n"
     ]
    }
   ],
   "source": [
    "case.diff(9,4)"
   ]
  },
  {
   "cell_type": "code",
   "execution_count": 17,
   "metadata": {},
   "outputs": [
    {
     "name": "stdout",
     "output_type": "stream",
     "text": [
      "the product of given number is :20\n"
     ]
    }
   ],
   "source": [
    "case.mul(4,5)"
   ]
  },
  {
   "cell_type": "code",
   "execution_count": 19,
   "metadata": {},
   "outputs": [
    {
     "name": "stdout",
     "output_type": "stream",
     "text": [
      "the product of given number is :54\n"
     ]
    }
   ],
   "source": [
    "case.mul(9,6)"
   ]
  },
  {
   "cell_type": "code",
   "execution_count": null,
   "metadata": {},
   "outputs": [],
   "source": []
  }
 ],
 "metadata": {
  "kernelspec": {
   "display_name": "Python 3",
   "language": "python",
   "name": "python3"
  },
  "language_info": {
   "codemirror_mode": {
    "name": "ipython",
    "version": 3
   },
   "file_extension": ".py",
   "mimetype": "text/x-python",
   "name": "python",
   "nbconvert_exporter": "python",
   "pygments_lexer": "ipython3",
   "version": "3.7.4"
  }
 },
 "nbformat": 4,
 "nbformat_minor": 2
}
