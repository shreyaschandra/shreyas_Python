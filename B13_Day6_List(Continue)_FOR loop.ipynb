{
 "cells": [
  {
   "cell_type": "code",
   "execution_count": 1,
   "metadata": {},
   "outputs": [
    {
     "name": "stdout",
     "output_type": "stream",
     "text": [
      "['shreyas', 'chaitra', 'sudha', 'chandra', 'sindhu']\n"
     ]
    }
   ],
   "source": [
    "data=['shreyas','chaitra','sudha','chandra','sindhu']\n",
    "print(data)"
   ]
  },
  {
   "cell_type": "code",
   "execution_count": 2,
   "metadata": {},
   "outputs": [
    {
     "data": {
      "text/plain": [
       "5"
      ]
     },
     "execution_count": 2,
     "metadata": {},
     "output_type": "execute_result"
    }
   ],
   "source": [
    "#to find the length of the list\n",
    "len(data)"
   ]
  },
  {
   "cell_type": "code",
   "execution_count": null,
   "metadata": {},
   "outputs": [],
   "source": [
    "#indtroduction  to FOR loops\n",
    "#FOR loop, are those which will be incuring under itself\n",
    "#Syntax for FOR loop  \n",
    "        for tempvar in mainvar:\n",
    "            print(tempvar)\n",
    "  #Terminologies in the FOR loop\n",
    "#Mainvar is the name of the list\n",
    "#tempvar is name of temporary variable created to store the list data\n",
    "#creating indentation  --- > is the format in the FOR loop where the print/statements needs to a tab space after the FOR loop\n",
    "# indentation is very important "
   ]
  },
  {
   "cell_type": "code",
   "execution_count": 3,
   "metadata": {},
   "outputs": [
    {
     "name": "stdout",
     "output_type": "stream",
     "text": [
      "shreyas\n",
      "chaitra\n",
      "sudha\n",
      "chandra\n",
      "sindhu\n"
     ]
    }
   ],
   "source": [
    "#examples of FOR loop\n",
    "#case1\n",
    "for abc in data:\n",
    "    print(abc)"
   ]
  },
  {
   "cell_type": "code",
   "execution_count": 4,
   "metadata": {},
   "outputs": [
    {
     "name": "stdout",
     "output_type": "stream",
     "text": [
      "shreyas\n",
      "chaitra\n",
      "sudha\n",
      "chandra\n",
      "sindhu\n"
     ]
    }
   ],
   "source": [
    "#case 2  by using another temp var\n",
    "for temp in data:\n",
    "    print(temp)"
   ]
  },
  {
   "cell_type": "code",
   "execution_count": 9,
   "metadata": {},
   "outputs": [],
   "source": [
    "#Enhancement of code\n",
    "#sending the message to each member in the list\n",
    "#using the f string we can achieve the above req."
   ]
  },
  {
   "cell_type": "code",
   "execution_count": 12,
   "metadata": {},
   "outputs": [
    {
     "name": "stdout",
     "output_type": "stream",
     "text": [
      "shreyas , good job!!!keep it up\n",
      "\n",
      "continue the momentum\n",
      "\n",
      "chaitra , good job!!!keep it up\n",
      "\n",
      "continue the momentum\n",
      "\n",
      "sudha , good job!!!keep it up\n",
      "\n",
      "continue the momentum\n",
      "\n",
      "chandra , good job!!!keep it up\n",
      "\n",
      "continue the momentum\n",
      "\n",
      "sindhu , good job!!!keep it up\n",
      "\n",
      "continue the momentum\n",
      "\n"
     ]
    }
   ],
   "source": [
    "for display in data:\n",
    "    print(f\"{display} , good job!!!keep it up\")\n",
    "    print(\"\\ncontinue the momentum\\n\")"
   ]
  },
  {
   "cell_type": "code",
   "execution_count": null,
   "metadata": {},
   "outputs": [],
   "source": [
    "#Numerical list using FOR  loop\n",
    "# using the built in method range()\n",
    "# Syntax of range()\n",
    "        # range(start value ,end value)"
   ]
  },
  {
   "cell_type": "code",
   "execution_count": 13,
   "metadata": {},
   "outputs": [
    {
     "name": "stdout",
     "output_type": "stream",
     "text": [
      "1\n",
      "2\n",
      "3\n",
      "4\n",
      "5\n",
      "6\n",
      "7\n",
      "8\n",
      "9\n"
     ]
    }
   ],
   "source": [
    "for value in range(1,10):    #in the range(), the last value will be excluded.\n",
    "    print(value)"
   ]
  },
  {
   "cell_type": "code",
   "execution_count": 14,
   "metadata": {},
   "outputs": [
    {
     "name": "stdout",
     "output_type": "stream",
     "text": [
      "1\n",
      "2\n",
      "3\n",
      "4\n",
      "5\n",
      "6\n",
      "7\n",
      "8\n",
      "9\n",
      "10\n",
      "11\n",
      "12\n",
      "13\n",
      "14\n",
      "15\n",
      "16\n",
      "17\n",
      "18\n",
      "19\n"
     ]
    }
   ],
   "source": [
    "for value in range(1,20):    #in the range(), the last value will be excluded.\n",
    "    print(value)"
   ]
  },
  {
   "cell_type": "code",
   "execution_count": 15,
   "metadata": {},
   "outputs": [
    {
     "name": "stdout",
     "output_type": "stream",
     "text": [
      "[1, 2, 3, 4, 5]\n"
     ]
    }
   ],
   "source": [
    "number=list(range(1,6))\n",
    "print(number)      #the last value will be excluded"
   ]
  },
  {
   "cell_type": "code",
   "execution_count": 17,
   "metadata": {},
   "outputs": [
    {
     "name": "stdout",
     "output_type": "stream",
     "text": [
      "[2, 4, 6, 8, 10, 12, 14, 16, 18, 20, 22, 24, 26, 28, 30, 32, 34, 36, 38, 40, 42, 44, 46, 48]\n"
     ]
    }
   ],
   "source": [
    "#need to print only even number from 1  to 50     --- >  important\n",
    "even=list(range(2,50,2))        #range(start value , end value , step count),\n",
    "                                #2 is added as the even number will start from 2 \n",
    "print(even)"
   ]
  },
  {
   "cell_type": "code",
   "execution_count": 18,
   "metadata": {},
   "outputs": [
    {
     "name": "stdout",
     "output_type": "stream",
     "text": [
      "[3, 5, 7, 9, 11, 13, 15, 17, 19, 21, 23, 25, 27, 29, 31, 33, 35, 37, 39, 41, 43, 45, 47, 49]\n"
     ]
    }
   ],
   "source": [
    "#need to print only odd number from 1  to 50     --- >  important\n",
    "odd=list(range(3,50,2))\n",
    "print(odd)"
   ]
  },
  {
   "cell_type": "code",
   "execution_count": 19,
   "metadata": {},
   "outputs": [
    {
     "name": "stdout",
     "output_type": "stream",
     "text": [
      "[3, 5, 7, 9, 11, 13, 15, 17, 19, 21, 23, 25, 27, 29, 31, 33, 35, 37, 39, 41, 43, 45, 47, 49]\n"
     ]
    }
   ],
   "source": [
    "#simple stastics with a list of numbers\n",
    "print(odd)"
   ]
  },
  {
   "cell_type": "code",
   "execution_count": 20,
   "metadata": {},
   "outputs": [
    {
     "data": {
      "text/plain": [
       "3"
      ]
     },
     "execution_count": 20,
     "metadata": {},
     "output_type": "execute_result"
    }
   ],
   "source": [
    "#get the minimum value in the list\n",
    "min(odd)              #minimum value in the list will be displayed"
   ]
  },
  {
   "cell_type": "code",
   "execution_count": 21,
   "metadata": {},
   "outputs": [
    {
     "data": {
      "text/plain": [
       "49"
      ]
     },
     "execution_count": 21,
     "metadata": {},
     "output_type": "execute_result"
    }
   ],
   "source": [
    "#get the maximum value in the list\n",
    "max(odd)"
   ]
  },
  {
   "cell_type": "code",
   "execution_count": 22,
   "metadata": {},
   "outputs": [
    {
     "data": {
      "text/plain": [
       "624"
      ]
     },
     "execution_count": 22,
     "metadata": {},
     "output_type": "execute_result"
    }
   ],
   "source": [
    "#to find the sum of the list\n",
    "sum(odd)"
   ]
  },
  {
   "cell_type": "code",
   "execution_count": 24,
   "metadata": {},
   "outputs": [
    {
     "data": {
      "text/plain": [
       "600"
      ]
     },
     "execution_count": 24,
     "metadata": {},
     "output_type": "execute_result"
    }
   ],
   "source": [
    "sum(even)"
   ]
  },
  {
   "cell_type": "code",
   "execution_count": 25,
   "metadata": {},
   "outputs": [
    {
     "name": "stdout",
     "output_type": "stream",
     "text": [
      "['chaitra', 'shreyas', 'guru', 'sindhu', 'chandra', 'sudha']\n"
     ]
    }
   ],
   "source": [
    "#Slicing of list\n",
    "val=['chaitra','shreyas','guru','sindhu','chandra','sudha']\n",
    "print(val)"
   ]
  },
  {
   "cell_type": "code",
   "execution_count": 27,
   "metadata": {},
   "outputs": [
    {
     "data": {
      "text/plain": [
       "list"
      ]
     },
     "execution_count": 27,
     "metadata": {},
     "output_type": "execute_result"
    }
   ],
   "source": [
    "type(val)"
   ]
  },
  {
   "cell_type": "code",
   "execution_count": 32,
   "metadata": {},
   "outputs": [
    {
     "name": "stdout",
     "output_type": "stream",
     "text": [
      "['chaitra', 'shreyas', 'guru', 'sindhu', 'chandra', 'sudha']\n"
     ]
    }
   ],
   "source": [
    "print(val)"
   ]
  },
  {
   "cell_type": "code",
   "execution_count": 40,
   "metadata": {},
   "outputs": [
    {
     "name": "stdout",
     "output_type": "stream",
     "text": [
      "['chaitra', 'shreyas']\n"
     ]
    }
   ],
   "source": [
    "# access the first 2 values in the list.\n",
    "print(val[0:2])                #for slicing, the last value will be excluded hence consider one value addition to the required. "
   ]
  },
  {
   "cell_type": "code",
   "execution_count": 41,
   "metadata": {},
   "outputs": [
    {
     "name": "stdout",
     "output_type": "stream",
     "text": [
      "['chaitra']\n"
     ]
    }
   ],
   "source": [
    "print(val[0:1]) # the index specified is to access 2 elements in the list, but the output is seen for the first element only,\n",
    "                #as the last value is excluded, hence we need to required range+1 to access the required elements."
   ]
  },
  {
   "cell_type": "code",
   "execution_count": null,
   "metadata": {},
   "outputs": [],
   "source": []
  }
 ],
 "metadata": {
  "kernelspec": {
   "display_name": "Python 3",
   "language": "python",
   "name": "python3"
  },
  "language_info": {
   "codemirror_mode": {
    "name": "ipython",
    "version": 3
   },
   "file_extension": ".py",
   "mimetype": "text/x-python",
   "name": "python",
   "nbconvert_exporter": "python",
   "pygments_lexer": "ipython3",
   "version": "3.7.4"
  }
 },
 "nbformat": 4,
 "nbformat_minor": 2
}
